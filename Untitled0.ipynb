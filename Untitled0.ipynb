{
  "nbformat": 4,
  "nbformat_minor": 0,
  "metadata": {
    "colab": {
      "provenance": []
    },
    "kernelspec": {
      "name": "python3",
      "display_name": "Python 3"
    },
    "language_info": {
      "name": "python"
    }
  },
  "cells": [
    {
      "cell_type": "code",
      "execution_count": null,
      "metadata": {
        "id": "SdTh4pOE1bdo"
      },
      "outputs": [],
      "source": [
        "class Node:\n",
        "    def __init__(self, value, next_=None):\n",
        "        self.value = value\n",
        "        self.next = next_\n",
        "\n",
        "\n",
        "class Stack:\n",
        "    def __init__(self):\n",
        "        self.head = Node('head')\n",
        "        self.size = 0\n",
        "\n",
        "    # Get the current size of the stack\n",
        "    def getSize(self):\n",
        "        return self.size\n",
        "\n",
        "    # Check if the stack is empty\n",
        "    def isEmpty(self):\n",
        "        return self.size == 0\n",
        "\n",
        "    # Get the top item of the stack\n",
        "    def peek(self):\n",
        "        # Sanitary check to see if we\n",
        "        # are peeking an empty stack.\n",
        "        if self.isEmpty():\n",
        "            raise Exception(\"Peeking from an empty stack\")\n",
        "        return self.head.next.value\n",
        "\n",
        "    # Push a value into the stack.\n",
        "    def push(self, value):\n",
        "        node = Node(value)\n",
        "        node.next = self.head.next\n",
        "        self.head.next = node\n",
        "        self.size += 1\n",
        "\n",
        "    # Remove a value from the stack and return.\n",
        "    def pop(self):\n",
        "        if self.isEmpty():\n",
        "            raise Exception(\"Popping from an empty stack\")\n",
        "        remove = self.head.next\n",
        "        self.head.next = self.head.next.next\n",
        "        self.size -= 1\n",
        "        return remove.value\n",
        "\n"
      ]
    },
    {
      "cell_type": "code",
      "source": [
        "class Token:\n",
        "    def __init__(self, data, dtype):\n",
        "        self.data = data\n",
        "        self.dtype = dtype "
      ],
      "metadata": {
        "id": "tYRazxIt1f-Y"
      },
      "execution_count": null,
      "outputs": []
    },
    {
      "cell_type": "code",
      "source": [
        "class Infix:\n",
        "    def __init__(self, expr):\n",
        "        self.infix = expr\n",
        "        self.operators = Stack()\n",
        "        self.pos = 0\n",
        "        self.priority = {'-': 3, '*': 2, '/': 2, '+': 1, '~': 1, ')': 0, '(': 0}\n",
        "\n",
        "    # Establish a token\n",
        "    def get_token(self):\n",
        "\n",
        "        # Token is end of string\n",
        "        if self.pos == len(self.infix):\n",
        "            tok = Token(None, dtype='EOF')\n",
        "            return tok\n",
        "\n",
        "        # skip white char\n",
        "        while self.infix[self.pos] in [' ', '\\t', '\\n']:\n",
        "            self.pos += 1\n",
        "\n",
        "        # check operands\n",
        "        if self.pos < len(self.infix) and self.infix[self.pos].isdecimal():\n",
        "            cur = self.infix[self.pos]\n",
        "            self.pos += 1\n",
        "\n",
        "            while self.pos < len(self.infix) and self.infix[self.pos].isdecimal():\n",
        "                cur += self.infix[self.pos]\n",
        "                self.pos += 1\n",
        "\n",
        "            tok = Token(cur, dtype='OPERAND')\n",
        "\n",
        "        # check operators\n",
        "        elif self.infix[self.pos] in ['+', '-', '*', '/', '~']:\n",
        "            data = self.infix[self.pos]\n",
        "            tok = Token(data, dtype='OPERATOR')\n",
        "            self.pos += 1\n",
        "\n",
        "        # check parenthesis\n",
        "        elif self.infix[self.pos] in ['(', ')']:\n",
        "            data = self.infix[self.pos]\n",
        "            tok = Token(data, dtype='PARENTHESIS')\n",
        "            self.pos += 1\n",
        "\n",
        "        else:\n",
        "            tok = Token(None, dtype='ERROR')\n",
        "            self.pos += 1\n",
        "\n",
        "        return tok\n",
        "\n",
        "    # convert to postfix\n",
        "    def to_postfix(self):\n",
        "        postfix = '' \n",
        "        tok = self.get_token()     \n",
        "\n",
        "        while tok.dtype != 'EOF':\n",
        "            if tok.dtype == 'ERROR':\n",
        "                raise ValueError('MATH ERROR :<')\n",
        "\n",
        "            if tok.dtype == 'OPERAND':\n",
        "                postfix += tok.data + ' '\n",
        "\n",
        "            if tok.dtype == 'OPERATOR':\n",
        "                while (not self.operators.isEmpty()) and \\\n",
        "                        (self.priority[tok.data] <= self.priority[self.operators.peek()]):\n",
        "                    op = self.operators.pop()\n",
        "                    postfix += ' ' + op\n",
        "\n",
        "                self.operators.push(tok.data)\n",
        "\n",
        "            if tok.dtype == 'PARENTHESIS':\n",
        "                if tok.data == '(': \n",
        "                    self.operators.push(tok.data)\n",
        "                elif tok.data == ')':\n",
        "                    # pop until (\n",
        "                    while self.operators.peek() != '(':\n",
        "                        postfix += ' ' + self.operators.pop()\n",
        "                    top_value = self.operators.pop()  #-32*( -40 + 29) * 5 -> 32  -40  -29  + *5  *\n",
        "\n",
        "            tok = self.get_token()\n",
        "\n",
        "        while not self.operators.isEmpty():\n",
        "            op = self.operators.pop()\n",
        "            postfix += ' ' + op\n",
        "\n",
        "        return postfix"
      ],
      "metadata": {
        "id": "8UF_rP9c1ieE"
      },
      "execution_count": null,
      "outputs": []
    },
    {
      "cell_type": "code",
      "source": [
        "class Postfix:\n",
        "    def __init__(self, expr):\n",
        "        self.postfix = expr\n",
        "        self.operands = Stack()  # Stack chua cac toan hang\n",
        "        self.pos = 0\n",
        "\n",
        "    def get_token(self):\n",
        "\n",
        "        # Token is end of string\n",
        "        if self.pos == len(self.postfix):\n",
        "            tok = Token(None, dtype='EOF')\n",
        "            return tok\n",
        "\n",
        "        # skip white char\n",
        "        while self.postfix[self.pos] in [' ', '\\t', '\\n']:\n",
        "            self.pos += 1\n",
        "\n",
        "        # CHECK OPERAND\n",
        "\n",
        "        #         cur = ''\n",
        "        #         while self.postfix[self.pos].isdecimal() and self.pos<len(self.postfix):\n",
        "        #             cur += self.postfix[self.pos]\n",
        "        #             self.pos += 1\n",
        "        #        tok = Token(cur, dtype = 'OPERANDS')\n",
        "\n",
        "        # TH Vòng lặp ko diễn ra -> Gán chuỗi rỗng là data của Tok\n",
        "\n",
        "        # check operand\n",
        "        if self.postfix[self.pos].isdecimal():\n",
        "            cur = self.postfix[self.pos]\n",
        "            self.pos += 1\n",
        "\n",
        "            while self.pos<len(self.postfix) and self.postfix[self.pos].isdecimal():\n",
        "                cur += self.postfix[self.pos]\n",
        "                self.pos += 1\n",
        "\n",
        "            tok = Token(cur, dtype='OPERAND')\n",
        "\n",
        "        # check operator\n",
        "        elif self.postfix[self.pos] in ['+', '~', '*', '/', '-']:\n",
        "            data = self.postfix[self.pos]\n",
        "            tok = Token(data, dtype='OPERATOR')\n",
        "            self.pos += 1\n",
        "\n",
        "        # check ERROR\n",
        "        else:\n",
        "            tok = Token(None, dtype='ERROR')\n",
        "            self.pos += 1\n",
        "\n",
        "        return tok\n",
        "\n",
        "    # CALCULATE FUNCTION\n",
        "    def calculate(self, num1, num2, op):\n",
        "        if op == '+':\n",
        "            return float(num1) + float(num2)\n",
        "\n",
        "        elif op == '~':\n",
        "            return float(num1) - float(num2)\n",
        "\n",
        "        elif op == '*':\n",
        "            return float(num1) * float(num2)\n",
        "\n",
        "        elif op == '/':\n",
        "            return float(num1) / float(num2)\n",
        "\n",
        "    def evaluate(self):\n",
        "        tok = self.get_token()\n",
        "\n",
        "        while tok.dtype != 'EOF':\n",
        "            if tok.dtype == 'ERROR':\n",
        "                raise ValueError('MATH ERROR :<')\n",
        "\n",
        "            if tok.dtype == 'OPERAND':\n",
        "                self.operands.push(tok.data)\n",
        "\n",
        "            if tok.dtype == 'OPERATOR' and tok.data == '-':\n",
        "                num1 = self.operands.pop()\n",
        "                num2 = '-' + num1\n",
        "                self.operands.push(num2)\n",
        "\n",
        "            if tok.dtype == 'OPERATOR' and tok.data != '-':\n",
        "                num2 = self.operands.pop()\n",
        "                num1 = self.operands.pop()\n",
        "\n",
        "                res = self.calculate(num1,num2,tok.data)\n",
        "                self.operands.push(res)\n",
        "\n",
        "            tok = self.get_token()\n",
        "\n",
        "        # check element in the last in the end time\n",
        "        if self.operands.getSize() != 1:\n",
        "            raise ValueError('operand stack should be end up with only one element')\n",
        "\n",
        "        return self.operands.pop()  # gia tri cuoi cung trong Stack"
      ],
      "metadata": {
        "id": "ZMlj22a41lSS"
      },
      "execution_count": null,
      "outputs": []
    },
    {
      "cell_type": "code",
      "source": [
        "p = Infix('2 * (3 ~ 8)')\n",
        "post = p.to_postfix()\n",
        "post"
      ],
      "metadata": {
        "colab": {
          "base_uri": "https://localhost:8080/",
          "height": 35
        },
        "id": "oHQMj1941n2f",
        "outputId": "bf128cf4-e4ef-4498-cab5-51b07c87fe62"
      },
      "execution_count": null,
      "outputs": [
        {
          "output_type": "execute_result",
          "data": {
            "text/plain": [
              "'2 3 8  ~ *'"
            ],
            "application/vnd.google.colaboratory.intrinsic+json": {
              "type": "string"
            }
          },
          "metadata": {},
          "execution_count": 127
        }
      ]
    },
    {
      "cell_type": "code",
      "source": [
        "ans = Postfix(post)\n",
        "ans.evaluate()"
      ],
      "metadata": {
        "colab": {
          "base_uri": "https://localhost:8080/"
        },
        "id": "ZGaAoJ9D1qHK",
        "outputId": "8b82a65b-51fb-4128-b4ae-333fce531715"
      },
      "execution_count": null,
      "outputs": [
        {
          "output_type": "execute_result",
          "data": {
            "text/plain": [
              "-10.0"
            ]
          },
          "metadata": {},
          "execution_count": 128
        }
      ]
    },
    {
      "cell_type": "code",
      "source": [
        "p = Infix('2 * (3 + -8)')\n",
        "post = p.to_postfix()\n",
        "print(post)\n",
        "ans = Postfix(post)\n",
        "ans.evaluate()"
      ],
      "metadata": {
        "colab": {
          "base_uri": "https://localhost:8080/"
        },
        "id": "Zy6HH-qiIC7G",
        "outputId": "fdbfe74b-85c1-41d9-b7c7-e15bd851532e"
      },
      "execution_count": null,
      "outputs": [
        {
          "output_type": "stream",
          "name": "stdout",
          "text": [
            "2 3 8  - + *\n"
          ]
        },
        {
          "output_type": "execute_result",
          "data": {
            "text/plain": [
              "-10.0"
            ]
          },
          "metadata": {},
          "execution_count": 131
        }
      ]
    },
    {
      "cell_type": "code",
      "source": [],
      "metadata": {
        "id": "Di2Jsh2gIKvY"
      },
      "execution_count": null,
      "outputs": []
    },
    {
      "cell_type": "code",
      "source": [
        "infix=Infix('54*35*(-40/-29)~(10/45)/90')\n",
        "post_=infix.to_postfix()\n",
        "print(post_)\n",
        "postfix=Postfix(post_)\n",
        "print(postfix.evaluate())"
      ],
      "metadata": {
        "id": "uTWb5TLA1r7Y",
        "colab": {
          "base_uri": "https://localhost:8080/"
        },
        "outputId": "6d327321-e7f8-4443-e953-0d2d290480eb"
      },
      "execution_count": null,
      "outputs": [
        {
          "output_type": "stream",
          "name": "stdout",
          "text": [
            "54 35  *40  -29  - / *10 45  /90  / ~\n",
            "2606.8940825883356\n"
          ]
        }
      ]
    },
    {
      "cell_type": "code",
      "source": [
        "infix=Infix('-32*( -40 + 29) * 5')\n",
        "post_=infix.to_postfix()\n",
        "print(post_)\n",
        "postfix=Postfix(post_)\n",
        "print(postfix.evaluate())"
      ],
      "metadata": {
        "colab": {
          "base_uri": "https://localhost:8080/"
        },
        "id": "Gtz2fvDACnov",
        "outputId": "b2087f57-029d-4b03-a6c8-34ed0752acc3"
      },
      "execution_count": null,
      "outputs": [
        {
          "output_type": "stream",
          "name": "stdout",
          "text": [
            "32  -40  -29  + *5  *\n",
            "1760.0\n"
          ]
        }
      ]
    }
  ]
}